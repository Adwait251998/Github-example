{
 "cells": [
  {
   "cell_type": "markdown",
   "metadata": {},
   "source": [
    "<h1 align=center><font size = 5>Introdcution</font></h1>\n",
    "New York City, is the most populous city in the U.S. It is large, and the financial center of the United States. It offers a lot of business oppourtunities and a community friendly to companies. It has attracted a number of different competitors. It is a regional center of industry and trade.The city is a major hub in the United States of America for banking and finance, retail, world trade, transportation, tourism, real estate, digital media, mainstream media, advertisement, legal services, accounting, insurance, theatre, music, and arts.The insights extracted from the study can provide a clear understanding of the business environment that helps to targete the market strategically. This will assist in risk management. And it'll be fair return on investment."
   ]
  },
  {
   "cell_type": "markdown",
   "metadata": {},
   "source": [
    "<h1 align=center><font size = 5>Buinsess Problem</font></h1>\n",
    "New York City is renowned for its excellent cuisine. It's food culture includes a variety of international cuisines that are inspired by the immigrant past of the region.Sushi restaurants have been so popular in the U.S. now it seems there is one at every corner. Starting a sushi restaurant can be a fantastic business opportunity but in order to achieve long-term success you have to differentiate yourself from others."
   ]
  },
  {
   "cell_type": "markdown",
   "metadata": {},
   "source": [
    "<h1 align=center><font size = 5>Finding appropriate place for Restaurent</font></h1>\n",
    "If you're planning a real restaurant that can demand higher fresh fish rates, shipped daily from nearby fishing grounds, concentrate on communities and outlets that already draw a sophisticated Japanese customer or any customer who loves Japanese food. If you are preparing a cheap restaurant buffet, appeal to the masses who are searching for inexpensive high-traffic areas with large shopping malls and other nearby.So it is apparent that it is very important to prepare startegically to succeed in such dynamic environment. In order to determine the venue, different factors need to be studied"
   ]
  },
  {
   "cell_type": "markdown",
   "metadata": {},
   "source": [
    "<h1 align=center><font size = 5>Target Customers</font></h1>\n",
    "My Partner wants to open his business in the Manhattan area, so during my study I only concentrate on that region. The aim is to locate and suggest to management which Newyork City neighborhood would be the best choice for starting a restaurant. The Management also needs to consider the justification behind the recommendations.That would attract someone in Newyork City who wants to start a new restaurant. "
   ]
  },
  {
   "cell_type": "markdown",
   "metadata": {},
   "source": []
  }
 ],
 "metadata": {
  "kernelspec": {
   "display_name": "Python 3",
   "language": "python",
   "name": "python3"
  },
  "language_info": {
   "codemirror_mode": {
    "name": "ipython",
    "version": 3
   },
   "file_extension": ".py",
   "mimetype": "text/x-python",
   "name": "python",
   "nbconvert_exporter": "python",
   "pygments_lexer": "ipython3",
   "version": "3.7.4"
  }
 },
 "nbformat": 4,
 "nbformat_minor": 2
}
